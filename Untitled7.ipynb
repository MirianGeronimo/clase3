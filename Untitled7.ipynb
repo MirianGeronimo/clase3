{
  "nbformat": 4,
  "nbformat_minor": 0,
  "metadata": {
    "colab": {
      "name": "Untitled7.ipynb",
      "provenance": [],
      "include_colab_link": true
    },
    "kernelspec": {
      "name": "python3",
      "display_name": "Python 3"
    },
    "language_info": {
      "name": "python"
    }
  },
  "cells": [
    {
      "cell_type": "markdown",
      "metadata": {
        "id": "view-in-github",
        "colab_type": "text"
      },
      "source": [
        "<a href=\"https://colab.research.google.com/github/MirianGeronimo/clase3/blob/main/Untitled7.ipynb\" target=\"_parent\"><img src=\"https://colab.research.google.com/assets/colab-badge.svg\" alt=\"Open In Colab\"/></a>"
      ]
    },
    {
      "cell_type": "code",
      "execution_count": null,
      "metadata": {
        "id": "ngZV4vsppMtz",
        "outputId": "bffed052-ed18-40a3-8c9a-79d82b7ee1b1",
        "colab": {
          "base_uri": "https://localhost:8080/"
        }
      },
      "outputs": [
        {
          "output_type": "execute_result",
          "data": {
            "text/plain": [
              "4"
            ]
          },
          "metadata": {},
          "execution_count": 1
        }
      ],
      "source": [
        "1+3\n"
      ]
    },
    {
      "cell_type": "code",
      "source": [
        ""
      ],
      "metadata": {
        "id": "5G2HzLwCdp-p"
      },
      "execution_count": null,
      "outputs": []
    },
    {
      "cell_type": "code",
      "source": [
        "5+6\n"
      ],
      "metadata": {
        "colab": {
          "base_uri": "https://localhost:8080/"
        },
        "id": "y2ufQpGwO4Q7",
        "outputId": "3450ab9c-efe0-4c83-b8da-dee87813157a"
      },
      "execution_count": null,
      "outputs": [
        {
          "output_type": "execute_result",
          "data": {
            "text/plain": [
              "11"
            ]
          },
          "metadata": {},
          "execution_count": 1
        }
      ]
    },
    {
      "cell_type": "code",
      "source": [
        "age_1 = 22\n",
        "age_0 = 17\n",
        "age_0 >= 21 and age_1 >= 21"
      ],
      "metadata": {
        "colab": {
          "base_uri": "https://localhost:8080/"
        },
        "id": "lIC0UgB-PJ_Q",
        "outputId": "4ad7856e-c42b-488a-e73b-abb18570f01f"
      },
      "execution_count": null,
      "outputs": [
        {
          "output_type": "execute_result",
          "data": {
            "text/plain": [
              "False"
            ]
          },
          "metadata": {},
          "execution_count": 4
        }
      ]
    },
    {
      "cell_type": "code",
      "source": [
        "lenguages = ['R', 'Python', 'C' ]\n",
        "lenguages\n",
        "\n"
      ],
      "metadata": {
        "colab": {
          "base_uri": "https://localhost:8080/"
        },
        "id": "P2eV9HX9QBPi",
        "outputId": "326a3418-b3c0-4e34-f25d-8e86530991fa"
      },
      "execution_count": null,
      "outputs": [
        {
          "output_type": "execute_result",
          "data": {
            "text/plain": [
              "['R', 'Python', 'C']"
            ]
          },
          "metadata": {},
          "execution_count": 5
        }
      ]
    },
    {
      "cell_type": "code",
      "source": [
        "lenguages = ['R', 'Python', 'C' ]\n",
        "'Python' in lenguages"
      ],
      "metadata": {
        "colab": {
          "base_uri": "https://localhost:8080/"
        },
        "id": "S-9uiaoZQSVa",
        "outputId": "02ef4986-5a70-40ed-d710-00e1718b9549"
      },
      "execution_count": null,
      "outputs": [
        {
          "output_type": "execute_result",
          "data": {
            "text/plain": [
              "True"
            ]
          },
          "metadata": {},
          "execution_count": 6
        }
      ]
    },
    {
      "cell_type": "code",
      "source": [
        ""
      ],
      "metadata": {
        "id": "wKgCqFf7QahJ"
      },
      "execution_count": null,
      "outputs": []
    },
    {
      "cell_type": "markdown",
      "source": [
        "Comprobar si un valor no está en una lista"
      ],
      "metadata": {
        "id": "-Gv1065gQc20"
      }
    },
    {
      "cell_type": "code",
      "source": [
        "banned_users = ['andrew', 'carolina', 'david']\n",
        "user = 'marie'\n",
        "if user not in banned_users:\n",
        "  print(f\"{user}, no se encuentra en la lista de no deseados\")"
      ],
      "metadata": {
        "colab": {
          "base_uri": "https://localhost:8080/"
        },
        "id": "rx2WGl1GQgXT",
        "outputId": "46e5a80a-0a91-465d-9319-dd5b9a6b2a8a"
      },
      "execution_count": null,
      "outputs": [
        {
          "output_type": "stream",
          "name": "stdout",
          "text": [
            "marie, no se encuentra en la lista de no deseados\n"
          ]
        }
      ]
    },
    {
      "cell_type": "code",
      "source": [
        "banned_users = ['andrew', 'carolina', 'david']\n",
        "user = str(input('Escriba su primer nombre'))\n",
        "if user not in banned_users:\n",
        "  print(f\"{user}, no se encuentra en la lista de no deseados\")\n",
        "else: \n",
        "  print(f\"{user}, lamentablemente usted esta en la lista de no deseados\")"
      ],
      "metadata": {
        "colab": {
          "base_uri": "https://localhost:8080/"
        },
        "id": "QvHFSPBUQ6jE",
        "outputId": "4d6a416a-1a13-465a-aff3-cae9a4ffd608"
      },
      "execution_count": null,
      "outputs": [
        {
          "output_type": "stream",
          "name": "stdout",
          "text": [
            "Escriba su primer nombredavid\n",
            "david, lamentablemente usted esta en la lista de no deseados\n"
          ]
        }
      ]
    },
    {
      "cell_type": "markdown",
      "source": [
        "condicionales"
      ],
      "metadata": {
        "id": "DoZlAbw0RtaG"
      }
    },
    {
      "cell_type": "code",
      "source": [
        "car = 'subaru'\n",
        "print(\"If car == subaru? I predict true\")\n",
        "print(car == 'subaru')"
      ],
      "metadata": {
        "colab": {
          "base_uri": "https://localhost:8080/"
        },
        "id": "rWufzHFXRukg",
        "outputId": "ab74b62d-0149-4114-f1c1-f4626c82dc5d"
      },
      "execution_count": null,
      "outputs": [
        {
          "output_type": "stream",
          "name": "stdout",
          "text": [
            "If car == subaru? I predict true\n",
            "True\n"
          ]
        }
      ]
    },
    {
      "cell_type": "code",
      "source": [
        "print(\"If car == audi? I predict true\")\n",
        "print(car == 'audi')"
      ],
      "metadata": {
        "colab": {
          "base_uri": "https://localhost:8080/"
        },
        "id": "XtIzY5VsSDEh",
        "outputId": "0953967c-a5b2-466d-c2b8-28e02e89ba01"
      },
      "execution_count": null,
      "outputs": [
        {
          "output_type": "stream",
          "name": "stdout",
          "text": [
            "If car == audi? I predict true\n",
            "False\n"
          ]
        }
      ]
    },
    {
      "cell_type": "code",
      "source": [
        "age = 19\n",
        "if age >= 18:\n",
        "  print(\"Ya tienes la edad suficiente para votar\")"
      ],
      "metadata": {
        "colab": {
          "base_uri": "https://localhost:8080/"
        },
        "id": "F240hObgSNhU",
        "outputId": "ed658ddb-1e20-4f92-eb4b-92aaf6e5d4c9"
      },
      "execution_count": null,
      "outputs": [
        {
          "output_type": "stream",
          "name": "stdout",
          "text": [
            "Ya tienes la edad suficiente para votar\n"
          ]
        }
      ]
    },
    {
      "cell_type": "code",
      "source": [
        "age = 3\n",
        "if age < 4:\n",
        "  print(\"Tu entrada cuesta 50.\")\n",
        "if age<18:\n",
        "  print(\"Tu entrada cuesta 25\")\n",
        "else: \n",
        "  print(\"Tu entrada cuesta 40\")"
      ],
      "metadata": {
        "colab": {
          "base_uri": "https://localhost:8080/"
        },
        "id": "PfmX4bYgS1lY",
        "outputId": "846a3d84-8907-4d1b-b5ec-639aee1c1896"
      },
      "execution_count": null,
      "outputs": [
        {
          "output_type": "stream",
          "name": "stdout",
          "text": [
            "Tu entrada cuesta 50.\n",
            "Tu entrada cuesta 25\n"
          ]
        }
      ]
    },
    {
      "cell_type": "code",
      "source": [
        "age = 5\n",
        "if age < 4:\n",
        "  price = 0\n",
        "elif age <18:\n",
        "  price =25\n",
        "else:\n",
        "  price = 40\n",
        "print(f\"Tu costo de entrada es ${price}.\")"
      ],
      "metadata": {
        "id": "61NOJQnrUlMr",
        "outputId": "6ccec5ee-23e3-4bd7-dde8-9b0a57d11be9",
        "colab": {
          "base_uri": "https://localhost:8080/"
        }
      },
      "execution_count": null,
      "outputs": [
        {
          "output_type": "stream",
          "name": "stdout",
          "text": [
            "Tu costo de entrada es $25.\n"
          ]
        }
      ]
    },
    {
      "cell_type": "code",
      "source": [
        "num1 = float(input('Ingrese el primer número:'))\n",
        "num2 = float(input('Ingrese el segundo numero:'))\n",
        "if num1>num2:\n",
        "  print('num1 es mayor')\n",
        "else:\n",
        "  print('num2 es mayor')"
      ],
      "metadata": {
        "id": "AvaaGbOlWv9M",
        "outputId": "1994cd20-08e1-4c81-93f6-f019f511b9f0",
        "colab": {
          "base_uri": "https://localhost:8080/"
        }
      },
      "execution_count": null,
      "outputs": [
        {
          "output_type": "stream",
          "name": "stdout",
          "text": [
            "Ingrese el primer número:7\n",
            "Ingrese el segundo numero:7\n",
            "num2 es mayor\n"
          ]
        }
      ]
    },
    {
      "cell_type": "code",
      "source": [
        "\n",
        "alien_color = 'verde'\n",
        "if alien_color == 'verde':\n",
        "  print(f\"{alien_color}, el jugador acaba de ganar 5 puntos\")"
      ],
      "metadata": {
        "id": "lP4hUYHLXIw_",
        "outputId": "e98cdec6-5018-45f6-a0ed-763f7efb9df7",
        "colab": {
          "base_uri": "https://localhost:8080/"
        }
      },
      "execution_count": null,
      "outputs": [
        {
          "output_type": "stream",
          "name": "stdout",
          "text": [
            "verde, el jugador acaba de ganar 5 puntos\n"
          ]
        }
      ]
    },
    {
      "cell_type": "markdown",
      "source": [
        ""
      ],
      "metadata": {
        "id": "1pBMq5oecnPz"
      }
    },
    {
      "cell_type": "code",
      "source": [
        "alien_color = str(input(\"Ingrese el color del alien:\\t\"))\n",
        "if alien_color == 'verde':\n",
        "  print(f\"{alien_color}, el jugador acaba de ganar 5 puntos\")\n",
        "elif alien_color == 'amarillo':\n",
        "  print(f\"{alien_color}, el jugador acaba de ganar 10 puntos\")\n",
        "elif alien_color == 'rojo':\n",
        "  print(f\"{alien_color}, el jugador acaba de ganar 15 puntos\")\n",
        "else:\n",
        "  print(\"No es posible determinar el resultado\")\n"
      ],
      "metadata": {
        "id": "WsubSbykZ4HU",
        "outputId": "f7904e64-ada1-4326-bdc9-2268ee295a07",
        "colab": {
          "base_uri": "https://localhost:8080/"
        }
      },
      "execution_count": null,
      "outputs": [
        {
          "output_type": "stream",
          "name": "stdout",
          "text": [
            "Ingrese el color del alien:\tamarillo\n",
            "amarillo, el jugador acaba de ganar 10 puntos\n"
          ]
        }
      ]
    },
    {
      "cell_type": "markdown",
      "source": [
        "sentencia while\n"
      ],
      "metadata": {
        "id": "QmzQIac2cokW"
      }
    },
    {
      "cell_type": "code",
      "source": [
        "current_number = 1\n",
        "while current_number <= 5:\n",
        "  print(current_number)\n",
        "  current_number += 1"
      ],
      "metadata": {
        "id": "cimV9G4YcrAW",
        "outputId": "098b53c0-65c3-495e-c1c6-dc040a53b959",
        "colab": {
          "base_uri": "https://localhost:8080/"
        }
      },
      "execution_count": null,
      "outputs": [
        {
          "output_type": "stream",
          "name": "stdout",
          "text": [
            "1\n",
            "2\n",
            "3\n",
            "4\n",
            "5\n"
          ]
        }
      ]
    },
    {
      "cell_type": "code",
      "source": [
        "prompt = \"\\nDime algo y lo repetire:\"\n",
        "prompt += \"\\nEscribe 'quit' para finalizar.\"\n",
        "message = \"\"\n",
        "while message != 'salir':\n",
        "  message = input(prompt)\n",
        "  print(message)"
      ],
      "metadata": {
        "id": "tw2UdchwdKdx",
        "outputId": "e77ec66c-1a4c-47ff-dde5-c41f97ff612b",
        "colab": {
          "base_uri": "https://localhost:8080/"
        }
      },
      "execution_count": null,
      "outputs": [
        {
          "output_type": "stream",
          "name": "stdout",
          "text": [
            "\n",
            "Dime algo y lo repetire:\n",
            "Escribe 'quit' para finalizar.hola soy jhon\n",
            "hola soy jhon\n",
            "\n",
            "Dime algo y lo repetire:\n",
            "Escribe 'quit' para finalizar.salir\n",
            "salir\n"
          ]
        }
      ]
    },
    {
      "cell_type": "markdown",
      "source": [
        "usando una constante"
      ],
      "metadata": {
        "id": "oseYdtP8d46-"
      }
    },
    {
      "cell_type": "code",
      "source": [
        "active = True\n",
        "\n",
        "while active:\n",
        "  message = input(prompt)\n",
        "  if message == 'salir':\n",
        "    active = False\n",
        "  else:\n",
        "    print(message)"
      ],
      "metadata": {
        "id": "KgP0ybaqd6QP",
        "outputId": "052178d7-d751-44ec-e68f-9b4bb90011ed",
        "colab": {
          "base_uri": "https://localhost:8080/"
        }
      },
      "execution_count": null,
      "outputs": [
        {
          "name": "stdout",
          "output_type": "stream",
          "text": [
            "\n",
            "Dime algo y lo repetire:\n",
            "Escribe 'quit' para finalizar.hola\n",
            "hola\n",
            "\n",
            "Dime algo y lo repetire:\n",
            "Escribe 'quit' para finalizar.como estas\n",
            "como estas\n",
            "\n",
            "Dime algo y lo repetire:\n",
            "Escribe 'quit' para finalizar.salir\n"
          ]
        }
      ]
    },
    {
      "cell_type": "code",
      "source": [
        "for n in range(100000):\n",
        "  print(n)\n",
        "  if n==3:\n",
        "    break"
      ],
      "metadata": {
        "colab": {
          "base_uri": "https://localhost:8080/"
        },
        "id": "Jdg6INJbdrnf",
        "outputId": "84bae19c-76e5-4641-86f5-faf626229d47"
      },
      "execution_count": 1,
      "outputs": [
        {
          "output_type": "stream",
          "name": "stdout",
          "text": [
            "0\n",
            "1\n",
            "2\n",
            "3\n"
          ]
        }
      ]
    },
    {
      "cell_type": "code",
      "source": [
        "for n in range(10):\n",
        "  print(n)"
      ],
      "metadata": {
        "colab": {
          "base_uri": "https://localhost:8080/"
        },
        "id": "wvICpY5qeUkW",
        "outputId": "8e206953-0ed9-4ec2-d619-e5bdc31f053d"
      },
      "execution_count": 2,
      "outputs": [
        {
          "output_type": "stream",
          "name": "stdout",
          "text": [
            "0\n",
            "1\n",
            "2\n",
            "3\n",
            "4\n",
            "5\n",
            "6\n",
            "7\n",
            "8\n",
            "9\n"
          ]
        }
      ]
    },
    {
      "cell_type": "markdown",
      "source": [
        "clase 4"
      ],
      "metadata": {
        "id": "6sd_sutqgf6c"
      }
    },
    {
      "cell_type": "code",
      "source": [
        "while True:\n",
        "  city = input('ingrese una ciudad')\n",
        "  if city == 'salir':\n",
        "      break\n",
        "  else:\n",
        "    print(f'me encantaria ir a {city}')"
      ],
      "metadata": {
        "colab": {
          "base_uri": "https://localhost:8080/"
        },
        "id": "BIvo-5K1ghWP",
        "outputId": "b8293ba8-0492-4a87-cd86-dc4c8f34f670"
      },
      "execution_count": 6,
      "outputs": [
        {
          "name": "stdout",
          "output_type": "stream",
          "text": [
            "ingrese una ciudadlima\n",
            "me encantaria ir a lima\n",
            "ingrese una ciudadarequipa\n",
            "me encantaria ir a arequipa\n",
            "ingrese una ciudadsalir\n"
          ]
        }
      ]
    },
    {
      "cell_type": "code",
      "source": [
        "current_number = 0\n",
        "while current_number < 10:\n",
        "  current_number += 1\n",
        "  if current_number % 2 ==0:\n",
        "    continue\n",
        "  print(current_number)"
      ],
      "metadata": {
        "colab": {
          "base_uri": "https://localhost:8080/"
        },
        "id": "sI1l38Q-hLXi",
        "outputId": "28fbacd7-8172-4c9a-b3eb-d2e77a5c3684"
      },
      "execution_count": 7,
      "outputs": [
        {
          "output_type": "stream",
          "name": "stdout",
          "text": [
            "1\n",
            "3\n",
            "5\n",
            "7\n",
            "9\n"
          ]
        }
      ]
    },
    {
      "cell_type": "code",
      "source": [
        "def suma(a,b):\n",
        "  return a+b"
      ],
      "metadata": {
        "id": "kmOjM29qly8o"
      },
      "execution_count": 8,
      "outputs": []
    },
    {
      "cell_type": "code",
      "source": [
        "suma(5,9)"
      ],
      "metadata": {
        "colab": {
          "base_uri": "https://localhost:8080/"
        },
        "id": "E8GJ6eOxl3BR",
        "outputId": "5305f6bd-8b28-4367-d281-f7eb6249d5b8"
      },
      "execution_count": 10,
      "outputs": [
        {
          "output_type": "execute_result",
          "data": {
            "text/plain": [
              "14"
            ]
          },
          "metadata": {},
          "execution_count": 10
        }
      ]
    },
    {
      "cell_type": "code",
      "source": [
        "def display_message():\n",
        "  print('estamos aprendiendo funciones')\n",
        "display_message()"
      ],
      "metadata": {
        "colab": {
          "base_uri": "https://localhost:8080/"
        },
        "id": "KQ0e3CA5pP9x",
        "outputId": "23ff7324-411d-4133-9faa-ead6f121402e"
      },
      "execution_count": 11,
      "outputs": [
        {
          "output_type": "stream",
          "name": "stdout",
          "text": [
            "estamos aprendiendo funciones\n"
          ]
        }
      ]
    },
    {
      "cell_type": "code",
      "source": [
        "\n",
        "def make_shirt(tamaño,texto):\n",
        "  print(f'El tamaño de la camiseta es {tamaño} y el texto {texto}')\n",
        "\n",
        "make_shirt('mediano','hola')"
      ],
      "metadata": {
        "colab": {
          "base_uri": "https://localhost:8080/"
        },
        "id": "YJp7RBXBwvRv",
        "outputId": "0645417b-3b58-42a4-977c-7219597438da"
      },
      "execution_count": 16,
      "outputs": [
        {
          "output_type": "stream",
          "name": "stdout",
          "text": [
            "El tamaño de la camiseta es mediano y el texto hola\n"
          ]
        }
      ]
    }
  ]
}