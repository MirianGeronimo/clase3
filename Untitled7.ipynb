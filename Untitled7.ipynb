{
  "nbformat": 4,
  "nbformat_minor": 0,
  "metadata": {
    "colab": {
      "name": "Untitled7.ipynb",
      "provenance": [],
      "include_colab_link": true
    },
    "kernelspec": {
      "name": "python3",
      "display_name": "Python 3"
    },
    "language_info": {
      "name": "python"
    }
  },
  "cells": [
    {
      "cell_type": "markdown",
      "metadata": {
        "id": "view-in-github",
        "colab_type": "text"
      },
      "source": [
        "<a href=\"https://colab.research.google.com/github/MirianGeronimo/clase3/blob/main/Untitled7.ipynb\" target=\"_parent\"><img src=\"https://colab.research.google.com/assets/colab-badge.svg\" alt=\"Open In Colab\"/></a>"
      ]
    },
    {
      "cell_type": "code",
      "execution_count": null,
      "metadata": {
        "id": "ngZV4vsppMtz",
        "outputId": "bffed052-ed18-40a3-8c9a-79d82b7ee1b1",
        "colab": {
          "base_uri": "https://localhost:8080/"
        }
      },
      "outputs": [
        {
          "output_type": "execute_result",
          "data": {
            "text/plain": [
              "4"
            ]
          },
          "metadata": {},
          "execution_count": 1
        }
      ],
      "source": [
        "1+3\n"
      ]
    },
    {
      "cell_type": "code",
      "source": [
        "5+6\n"
      ],
      "metadata": {
        "colab": {
          "base_uri": "https://localhost:8080/"
        },
        "id": "y2ufQpGwO4Q7",
        "outputId": "3450ab9c-efe0-4c83-b8da-dee87813157a"
      },
      "execution_count": 1,
      "outputs": [
        {
          "output_type": "execute_result",
          "data": {
            "text/plain": [
              "11"
            ]
          },
          "metadata": {},
          "execution_count": 1
        }
      ]
    },
    {
      "cell_type": "code",
      "source": [
        "age_1 = 22\n",
        "age_0 = 17\n",
        "age_0 >= 21 and age_1 >= 21"
      ],
      "metadata": {
        "colab": {
          "base_uri": "https://localhost:8080/"
        },
        "id": "lIC0UgB-PJ_Q",
        "outputId": "4ad7856e-c42b-488a-e73b-abb18570f01f"
      },
      "execution_count": 4,
      "outputs": [
        {
          "output_type": "execute_result",
          "data": {
            "text/plain": [
              "False"
            ]
          },
          "metadata": {},
          "execution_count": 4
        }
      ]
    },
    {
      "cell_type": "code",
      "source": [
        "lenguages = ['R', 'Python', 'C' ]\n",
        "lenguages\n",
        "\n"
      ],
      "metadata": {
        "id": "P2eV9HX9QBPi",
        "outputId": "326a3418-b3c0-4e34-f25d-8e86530991fa",
        "colab": {
          "base_uri": "https://localhost:8080/"
        }
      },
      "execution_count": 5,
      "outputs": [
        {
          "output_type": "execute_result",
          "data": {
            "text/plain": [
              "['R', 'Python', 'C']"
            ]
          },
          "metadata": {},
          "execution_count": 5
        }
      ]
    },
    {
      "cell_type": "code",
      "source": [
        "lenguages = ['R', 'Python', 'C' ]\n",
        "'Python' in lenguages"
      ],
      "metadata": {
        "id": "S-9uiaoZQSVa",
        "outputId": "02ef4986-5a70-40ed-d710-00e1718b9549",
        "colab": {
          "base_uri": "https://localhost:8080/"
        }
      },
      "execution_count": 6,
      "outputs": [
        {
          "output_type": "execute_result",
          "data": {
            "text/plain": [
              "True"
            ]
          },
          "metadata": {},
          "execution_count": 6
        }
      ]
    },
    {
      "cell_type": "code",
      "source": [
        ""
      ],
      "metadata": {
        "id": "wKgCqFf7QahJ"
      },
      "execution_count": null,
      "outputs": []
    },
    {
      "cell_type": "markdown",
      "source": [
        "Comprobar si un valor no está en una lista"
      ],
      "metadata": {
        "id": "-Gv1065gQc20"
      }
    },
    {
      "cell_type": "code",
      "source": [
        "banned_users = ['andrew', 'carolina', 'david']\n",
        "user = 'marie'\n",
        "if user not in banned_users:\n",
        "  print(f\"{user}, no se encuentra en la lista de no deseados\")"
      ],
      "metadata": {
        "id": "rx2WGl1GQgXT",
        "outputId": "46e5a80a-0a91-465d-9319-dd5b9a6b2a8a",
        "colab": {
          "base_uri": "https://localhost:8080/"
        }
      },
      "execution_count": 7,
      "outputs": [
        {
          "output_type": "stream",
          "name": "stdout",
          "text": [
            "marie, no se encuentra en la lista de no deseados\n"
          ]
        }
      ]
    },
    {
      "cell_type": "code",
      "source": [
        "banned_users = ['andrew', 'carolina', 'david']\n",
        "user = str(input('Escriba su primer nombre'))\n",
        "if user not in banned_users:\n",
        "  print(f\"{user}, no se encuentra en la lista de no deseados\")\n",
        "else: \n",
        "  print(f\"{user}, lamentablemente usted esta en la lista de no deseados\")"
      ],
      "metadata": {
        "id": "QvHFSPBUQ6jE",
        "outputId": "4d6a416a-1a13-465a-aff3-cae9a4ffd608",
        "colab": {
          "base_uri": "https://localhost:8080/"
        }
      },
      "execution_count": 8,
      "outputs": [
        {
          "output_type": "stream",
          "name": "stdout",
          "text": [
            "Escriba su primer nombredavid\n",
            "david, lamentablemente usted esta en la lista de no deseados\n"
          ]
        }
      ]
    },
    {
      "cell_type": "markdown",
      "source": [
        "condicionales"
      ],
      "metadata": {
        "id": "DoZlAbw0RtaG"
      }
    },
    {
      "cell_type": "code",
      "source": [
        "car = 'subaru'\n",
        "print(\"If car == subaru? I predict true\")\n",
        "print(car == 'subaru')"
      ],
      "metadata": {
        "id": "rWufzHFXRukg",
        "outputId": "ab74b62d-0149-4114-f1c1-f4626c82dc5d",
        "colab": {
          "base_uri": "https://localhost:8080/"
        }
      },
      "execution_count": 9,
      "outputs": [
        {
          "output_type": "stream",
          "name": "stdout",
          "text": [
            "If car == subaru? I predict true\n",
            "True\n"
          ]
        }
      ]
    },
    {
      "cell_type": "code",
      "source": [
        "print(\"If car == audi? I predict true\")\n",
        "print(car == 'audi')"
      ],
      "metadata": {
        "id": "XtIzY5VsSDEh",
        "outputId": "0953967c-a5b2-466d-c2b8-28e02e89ba01",
        "colab": {
          "base_uri": "https://localhost:8080/"
        }
      },
      "execution_count": 10,
      "outputs": [
        {
          "output_type": "stream",
          "name": "stdout",
          "text": [
            "If car == audi? I predict true\n",
            "False\n"
          ]
        }
      ]
    },
    {
      "cell_type": "code",
      "source": [
        "age = 19\n",
        "if age >= 18:\n",
        "  print(\"Ya tienes la edad suficiente para votar\")"
      ],
      "metadata": {
        "id": "F240hObgSNhU",
        "outputId": "ed658ddb-1e20-4f92-eb4b-92aaf6e5d4c9",
        "colab": {
          "base_uri": "https://localhost:8080/"
        }
      },
      "execution_count": 11,
      "outputs": [
        {
          "output_type": "stream",
          "name": "stdout",
          "text": [
            "Ya tienes la edad suficiente para votar\n"
          ]
        }
      ]
    },
    {
      "cell_type": "code",
      "source": [
        "age = 3\n",
        "if age < 4:\n",
        "  print(\"Tu entrada cuesta 50.\")\n",
        "if age<18:\n",
        "  print(\"Tu entrada cuesta 25\")\n",
        "else: \n",
        "  print(\"Tu entrada cuesta 40\")"
      ],
      "metadata": {
        "id": "PfmX4bYgS1lY",
        "outputId": "846a3d84-8907-4d1b-b5ec-639aee1c1896",
        "colab": {
          "base_uri": "https://localhost:8080/"
        }
      },
      "execution_count": 14,
      "outputs": [
        {
          "output_type": "stream",
          "name": "stdout",
          "text": [
            "Tu entrada cuesta 50.\n",
            "Tu entrada cuesta 25\n"
          ]
        }
      ]
    }
  ]
}